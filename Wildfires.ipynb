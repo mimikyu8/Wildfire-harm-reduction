{
 "cells": [
  {
   "cell_type": "markdown",
   "metadata": {},
   "source": [
    "# Introduction"
   ]
  },
  {
   "cell_type": "markdown",
   "metadata": {},
   "source": [
    "The dataset used gathers information of wildfires in Spain from 2001 to 2015. The data comes from the Estadística General de Incendios Forestales (EGIF) made by the Centro de Coordinación de la Información Nacional de Incendios Forestales (CCINIF), and this information is provided by each Autonomous Community yearly. \n",
    "\n",
    "The dataset has the following information:\n",
    "\n",
    "* id |  Identifier\n",
    "* superficie |\tForest area burned, in hectares\n",
    "* fecha\t| Fire detection date (yyyy-mm-dd format)\n",
    "* lat |\tGeographical latitude  of the wildfire origin\n",
    "* lng\t| Geographical longitude  of the wildfire origin\n",
    "* latlng_explicit |\tInforms whether the geographical coordinates were available (1) or the coordinates of the origin municipality were used instead (0)\n",
    "* comunidad\t| Autonomus community identifier\n",
    "* provincia\t| Province identifier\n",
    "* municipio\t| Name of the municipality\n",
    "* causa\t| Wildfire cause\n",
    "* causa_supuesta\t| 1 if the the cause is assumed, otherwise is blank\n",
    "* causa_desc\t| Wildfire description identifier\n",
    "* muertos\t| Number of deceased\n",
    "* heridos\t| Number of injured\n",
    "* time_ctrl\t| Time lapsed until the fire is controled (in minutes)\n",
    "* time_ext\t| Time lapsed until the fire extinction(in minutes)\n",
    "* personal\t| Number of people that participated in the fire extinction (includes technicians, forestry agents, brigades, firefighters, volunteers, civil guards and military)\n",
    "* medios\t| Number of ground and aerial means involved in extinguishing the fire (including fire engines, bulldozers, tractors, airplanes and others)\n",
    "* gastos\t| Extinguishing costs associated with the fire as reported in EGIF\n",
    "* perdidas\t| Economic losses associated with the fire as reported in EGIF\t "
   ]
  },
  {
   "cell_type": "markdown",
   "metadata": {},
   "source": [
    "We will now proceed to explore and clean the dataset."
   ]
  },
  {
   "cell_type": "code",
   "execution_count": 24,
   "metadata": {},
   "outputs": [],
   "source": [
    "# needed libraries\n",
    "import pandas as pd\n",
    "import numpy as np\n",
    "import seaborn as sns\n",
    "import matplotlib.pyplot as plt\n",
    "import pygeohash as pgh"
   ]
  },
  {
   "cell_type": "code",
   "execution_count": 46,
   "metadata": {},
   "outputs": [],
   "source": [
    "df = pd.read_csv(\"fires-all.csv\", parse_dates = [\"fecha\"], index_col=\"fecha\")"
   ]
  },
  {
   "cell_type": "code",
   "execution_count": 47,
   "metadata": {},
   "outputs": [
    {
     "data": {
      "text/html": [
       "<div>\n",
       "<style scoped>\n",
       "    .dataframe tbody tr th:only-of-type {\n",
       "        vertical-align: middle;\n",
       "    }\n",
       "\n",
       "    .dataframe tbody tr th {\n",
       "        vertical-align: top;\n",
       "    }\n",
       "\n",
       "    .dataframe thead th {\n",
       "        text-align: right;\n",
       "    }\n",
       "</style>\n",
       "<table border=\"1\" class=\"dataframe\">\n",
       "  <thead>\n",
       "    <tr style=\"text-align: right;\">\n",
       "      <th>fecha</th>\n",
       "      <th>2001-03-18</th>\n",
       "      <th>2001-03-24</th>\n",
       "      <th>2001-04-16</th>\n",
       "      <th>2001-05-25</th>\n",
       "      <th>2001-07-20</th>\n",
       "    </tr>\n",
       "  </thead>\n",
       "  <tbody>\n",
       "    <tr>\n",
       "      <th>id</th>\n",
       "      <td>2001010001</td>\n",
       "      <td>2001010004</td>\n",
       "      <td>2001010005</td>\n",
       "      <td>2001010008</td>\n",
       "      <td>2001010017</td>\n",
       "    </tr>\n",
       "    <tr>\n",
       "      <th>superficie</th>\n",
       "      <td>3.7</td>\n",
       "      <td>1.5</td>\n",
       "      <td>1.5</td>\n",
       "      <td>7.5</td>\n",
       "      <td>1.04</td>\n",
       "    </tr>\n",
       "    <tr>\n",
       "      <th>lat</th>\n",
       "      <td>42.9547</td>\n",
       "      <td>42.5522</td>\n",
       "      <td>48.3025</td>\n",
       "      <td>42.9465</td>\n",
       "      <td>43.0917</td>\n",
       "    </tr>\n",
       "    <tr>\n",
       "      <th>lng</th>\n",
       "      <td>-2.32572</td>\n",
       "      <td>-2.64067</td>\n",
       "      <td>-3.3978</td>\n",
       "      <td>-2.48516</td>\n",
       "      <td>-3.02457</td>\n",
       "    </tr>\n",
       "    <tr>\n",
       "      <th>latlng_explicit</th>\n",
       "      <td>1</td>\n",
       "      <td>1</td>\n",
       "      <td>1</td>\n",
       "      <td>1</td>\n",
       "      <td>1</td>\n",
       "    </tr>\n",
       "    <tr>\n",
       "      <th>idcomunidad</th>\n",
       "      <td>1</td>\n",
       "      <td>1</td>\n",
       "      <td>1</td>\n",
       "      <td>1</td>\n",
       "      <td>1</td>\n",
       "    </tr>\n",
       "    <tr>\n",
       "      <th>idprovincia</th>\n",
       "      <td>1</td>\n",
       "      <td>1</td>\n",
       "      <td>1</td>\n",
       "      <td>1</td>\n",
       "      <td>1</td>\n",
       "    </tr>\n",
       "    <tr>\n",
       "      <th>idmunicipio</th>\n",
       "      <td>13</td>\n",
       "      <td>41</td>\n",
       "      <td>33</td>\n",
       "      <td>13</td>\n",
       "      <td>10</td>\n",
       "    </tr>\n",
       "    <tr>\n",
       "      <th>municipio</th>\n",
       "      <td>BARRUNDIA</td>\n",
       "      <td>NAVARIDAS</td>\n",
       "      <td>LAPUEBLA DE LABARCA</td>\n",
       "      <td>BARRUNDIA</td>\n",
       "      <td>AIARA/AYALA</td>\n",
       "    </tr>\n",
       "    <tr>\n",
       "      <th>causa</th>\n",
       "      <td>4</td>\n",
       "      <td>2</td>\n",
       "      <td>2</td>\n",
       "      <td>4</td>\n",
       "      <td>5</td>\n",
       "    </tr>\n",
       "    <tr>\n",
       "      <th>causa_supuesta</th>\n",
       "      <td>NaN</td>\n",
       "      <td>1</td>\n",
       "      <td>NaN</td>\n",
       "      <td>NaN</td>\n",
       "      <td>NaN</td>\n",
       "    </tr>\n",
       "    <tr>\n",
       "      <th>causa_desc</th>\n",
       "      <td>2</td>\n",
       "      <td>10</td>\n",
       "      <td>10</td>\n",
       "      <td>2</td>\n",
       "      <td>0</td>\n",
       "    </tr>\n",
       "    <tr>\n",
       "      <th>muertos</th>\n",
       "      <td>NaN</td>\n",
       "      <td>NaN</td>\n",
       "      <td>NaN</td>\n",
       "      <td>NaN</td>\n",
       "      <td>NaN</td>\n",
       "    </tr>\n",
       "    <tr>\n",
       "      <th>heridos</th>\n",
       "      <td>NaN</td>\n",
       "      <td>NaN</td>\n",
       "      <td>NaN</td>\n",
       "      <td>NaN</td>\n",
       "      <td>NaN</td>\n",
       "    </tr>\n",
       "    <tr>\n",
       "      <th>time_ctrl</th>\n",
       "      <td>150</td>\n",
       "      <td>275</td>\n",
       "      <td>135</td>\n",
       "      <td>335</td>\n",
       "      <td>45</td>\n",
       "    </tr>\n",
       "    <tr>\n",
       "      <th>time_ext</th>\n",
       "      <td>180</td>\n",
       "      <td>290</td>\n",
       "      <td>165</td>\n",
       "      <td>410</td>\n",
       "      <td>75</td>\n",
       "    </tr>\n",
       "    <tr>\n",
       "      <th>personal</th>\n",
       "      <td>10</td>\n",
       "      <td>4</td>\n",
       "      <td>4</td>\n",
       "      <td>6</td>\n",
       "      <td>11</td>\n",
       "    </tr>\n",
       "    <tr>\n",
       "      <th>medios</th>\n",
       "      <td>2</td>\n",
       "      <td>1</td>\n",
       "      <td>1</td>\n",
       "      <td>1</td>\n",
       "      <td>2</td>\n",
       "    </tr>\n",
       "    <tr>\n",
       "      <th>gastos</th>\n",
       "      <td>661</td>\n",
       "      <td>661</td>\n",
       "      <td>312</td>\n",
       "      <td>1082</td>\n",
       "      <td>270</td>\n",
       "    </tr>\n",
       "    <tr>\n",
       "      <th>perdidas</th>\n",
       "      <td>553</td>\n",
       "      <td>451</td>\n",
       "      <td>902</td>\n",
       "      <td>15338</td>\n",
       "      <td>2866</td>\n",
       "    </tr>\n",
       "  </tbody>\n",
       "</table>\n",
       "</div>"
      ],
      "text/plain": [
       "fecha            2001-03-18  2001-03-24           2001-04-16  2001-05-25  \\\n",
       "id               2001010001  2001010004           2001010005  2001010008   \n",
       "superficie              3.7         1.5                  1.5         7.5   \n",
       "lat                 42.9547     42.5522              48.3025     42.9465   \n",
       "lng                -2.32572    -2.64067              -3.3978    -2.48516   \n",
       "latlng_explicit           1           1                    1           1   \n",
       "idcomunidad               1           1                    1           1   \n",
       "idprovincia               1           1                    1           1   \n",
       "idmunicipio              13          41                   33          13   \n",
       "municipio         BARRUNDIA   NAVARIDAS  LAPUEBLA DE LABARCA   BARRUNDIA   \n",
       "causa                     4           2                    2           4   \n",
       "causa_supuesta          NaN           1                  NaN         NaN   \n",
       "causa_desc                2          10                   10           2   \n",
       "muertos                 NaN         NaN                  NaN         NaN   \n",
       "heridos                 NaN         NaN                  NaN         NaN   \n",
       "time_ctrl               150         275                  135         335   \n",
       "time_ext                180         290                  165         410   \n",
       "personal                 10           4                    4           6   \n",
       "medios                    2           1                    1           1   \n",
       "gastos                  661         661                  312        1082   \n",
       "perdidas                553         451                  902       15338   \n",
       "\n",
       "fecha             2001-07-20  \n",
       "id                2001010017  \n",
       "superficie              1.04  \n",
       "lat                  43.0917  \n",
       "lng                 -3.02457  \n",
       "latlng_explicit            1  \n",
       "idcomunidad                1  \n",
       "idprovincia                1  \n",
       "idmunicipio               10  \n",
       "municipio        AIARA/AYALA  \n",
       "causa                      5  \n",
       "causa_supuesta           NaN  \n",
       "causa_desc                 0  \n",
       "muertos                  NaN  \n",
       "heridos                  NaN  \n",
       "time_ctrl                 45  \n",
       "time_ext                  75  \n",
       "personal                  11  \n",
       "medios                     2  \n",
       "gastos                   270  \n",
       "perdidas                2866  "
      ]
     },
     "execution_count": 47,
     "metadata": {},
     "output_type": "execute_result"
    }
   ],
   "source": [
    "df.head().transpose()"
   ]
  },
  {
   "cell_type": "code",
   "execution_count": 48,
   "metadata": {},
   "outputs": [
    {
     "name": "stdout",
     "output_type": "stream",
     "text": [
      "Dataset size: (82640, 20)\n"
     ]
    }
   ],
   "source": [
    "print(\"Dataset size:\", df.shape)"
   ]
  },
  {
   "cell_type": "code",
   "execution_count": 49,
   "metadata": {},
   "outputs": [
    {
     "data": {
      "text/plain": [
       "id                     0\n",
       "superficie             0\n",
       "lat                   24\n",
       "lng                   24\n",
       "latlng_explicit        0\n",
       "idcomunidad            0\n",
       "idprovincia            0\n",
       "idmunicipio            0\n",
       "municipio              0\n",
       "causa                  0\n",
       "causa_supuesta     36175\n",
       "causa_desc             0\n",
       "muertos            79916\n",
       "heridos            79569\n",
       "time_ctrl              0\n",
       "time_ext               0\n",
       "personal               0\n",
       "medios                 0\n",
       "gastos             71016\n",
       "perdidas           48291\n",
       "dtype: int64"
      ]
     },
     "execution_count": 49,
     "metadata": {},
     "output_type": "execute_result"
    }
   ],
   "source": [
    "df.isna().sum()"
   ]
  },
  {
   "cell_type": "markdown",
   "metadata": {},
   "source": [
    "As shown above, this dataset has missing values that need to be fixed in order to use it for our analysis and model. Firstly, as stated above in the variable descriptions, causa_supuesta has a value of either 1 or blank, hence we can fill the missing values with a 0. "
   ]
  },
  {
   "cell_type": "code",
   "execution_count": 50,
   "metadata": {},
   "outputs": [
    {
     "name": "stdout",
     "output_type": "stream",
     "text": [
      "Unique values in causa_supuesta: [nan  1.]\n"
     ]
    }
   ],
   "source": [
    "print(\"Unique values in causa_supuesta:\", df.causa_supuesta.unique())"
   ]
  },
  {
   "cell_type": "code",
   "execution_count": 51,
   "metadata": {},
   "outputs": [],
   "source": [
    "df[\"causa_supuesta\"] = df.causa_supuesta.fillna(0)"
   ]
  },
  {
   "cell_type": "markdown",
   "metadata": {},
   "source": [
    "Although they could be very insightful, the variables muertos, heridos, gastos and perdidas show too many missing values and have to be eliminated. The deceased and injured values per year do not match the values given on other official government reports, so it is not that they weren't filled because there were no injured or deceased in those cases. As for the other two values, something similar happens. Since the data is comprised of data gathered by different autonomous communities, not all of them collected data on these. "
   ]
  },
  {
   "cell_type": "code",
   "execution_count": 52,
   "metadata": {},
   "outputs": [],
   "source": [
    "#drop gastos; although this variable would be very insightful, it has too many NaN values that cannot be eliminated or filled\n",
    "df = df.drop([\"gastos\"], axis = 1)\n",
    "\n",
    "#drop perdidas; same as above\n",
    "df = df.drop([\"perdidas\"], axis = 1)\n",
    "\n",
    "#drop muertos; same as above\n",
    "df = df.drop([\"muertos\"], axis = 1)\n",
    "\n",
    "#drop heridos; same as above\n",
    "df = df.drop([\"heridos\"], axis = 1)"
   ]
  },
  {
   "cell_type": "markdown",
   "metadata": {},
   "source": [
    "Now, we will remove variables that have no use for our analysis and model. We will remove id, as we have stated date as our index; latlng_explicit because it doesn't add additional information; idmunicipio, which only gives a number id to the municipalities where we already have their names; and causa_desc because unfortunately it is wrongly labeled."
   ]
  },
  {
   "cell_type": "code",
   "execution_count": 57,
   "metadata": {},
   "outputs": [],
   "source": [
    "#drop id; adds no info and we have another index now which is the date\n",
    "df = df.drop([\"id\"], axis = 1)\n",
    "\n",
    "#drop latlng_explicit; only says if the coordinates were taken from the town or not\n",
    "df = df.drop([\"latlng_explicit\"], axis = 1)\n",
    "\n",
    "#drop idmunicipio; we already have the name of the municipality\n",
    "df = df.drop([\"idmunicipio\"], axis = 1)\n",
    "\n",
    "#drop causa_desc; it is wrongly labeled\n",
    "df = df.drop([\"causa_desc\"], axis = 1)"
   ]
  },
  {
   "cell_type": "markdown",
   "metadata": {},
   "source": [
    "As for lat and lng variables, the values that are missing only represent less than 0.03% opf the dataset. They could be estimated with the municipality name, stored in the variable municipio; however, this is unlikely to change how the model performs."
   ]
  },
  {
   "cell_type": "code",
   "execution_count": 60,
   "metadata": {},
   "outputs": [],
   "source": [
    "#remove NaN rows in lat and lng because they are only 24 rows \n",
    "\n",
    "df.drop(df[(df[\"lng\"].isna())].index, inplace = True)\n",
    "\n",
    "df.drop(df[(df[\"lat\"].isna())].index, inplace = True)"
   ]
  },
  {
   "cell_type": "code",
   "execution_count": 63,
   "metadata": {},
   "outputs": [
    {
     "name": "stdout",
     "output_type": "stream",
     "text": [
      "Cleaned dataset size: (81433, 12)\n"
     ]
    }
   ],
   "source": [
    "print(\"Cleaned dataset size:\", df.shape)"
   ]
  },
  {
   "cell_type": "code",
   "execution_count": 62,
   "metadata": {},
   "outputs": [
    {
     "data": {
      "text/plain": [
       "superficie        0\n",
       "lat               0\n",
       "lng               0\n",
       "idcomunidad       0\n",
       "idprovincia       0\n",
       "municipio         0\n",
       "causa             0\n",
       "causa_supuesta    0\n",
       "time_ctrl         0\n",
       "time_ext          0\n",
       "personal          0\n",
       "medios            0\n",
       "dtype: int64"
      ]
     },
     "execution_count": 62,
     "metadata": {},
     "output_type": "execute_result"
    }
   ],
   "source": [
    "#save it into a new csv\n",
    "df.to_csv(\"clean_fires.csv\")"
   ]
  },
  {
   "cell_type": "code",
   "execution_count": null,
   "metadata": {},
   "outputs": [],
   "source": []
  }
 ],
 "metadata": {
  "kernelspec": {
   "display_name": "Python 3",
   "language": "python",
   "name": "python3"
  },
  "language_info": {
   "codemirror_mode": {
    "name": "ipython",
    "version": 3
   },
   "file_extension": ".py",
   "mimetype": "text/x-python",
   "name": "python",
   "nbconvert_exporter": "python",
   "pygments_lexer": "ipython3",
   "version": "3.7.6"
  }
 },
 "nbformat": 4,
 "nbformat_minor": 4
}
